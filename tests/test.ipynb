{
 "cells": [
  {
   "attachments": {},
   "cell_type": "markdown",
   "metadata": {},
   "source": [
    "## Logger"
   ]
  },
  {
   "cell_type": "code",
   "execution_count": 30,
   "metadata": {},
   "outputs": [],
   "source": [
    "\"\"\"Modulo per la gestione dei log dell'applicazione.\"\"\"\n",
    "\n",
    "# Standard Import\n",
    "import logging\n",
    "\n",
    "# Site-package Import\n",
    "# Project Import\n",
    "\n",
    "\n",
    "class LoggerManager:\n",
    "    ''' Creo la classe Logger per creare un logger separato per ogni modulo.\n",
    "        Occorre passare il nome del modulo e l'eventuale nomefile.\n",
    "        Se non viene passato un nomefile, si utiizza lo standard.\n",
    "\n",
    "        NOTSET     0  Non impostato\n",
    "        DEBUG     10  Livello di Debug\n",
    "        INFO      20  Livello di Informazione da mettere in output\n",
    "        WARNING   30  Warning non bloccante\n",
    "        ERROR     40  Errore\n",
    "        CRITICAL  50  Errore critico bloccante\n",
    "    '''\n",
    "\n",
    "    def __init__(self, name, log_file=None,\n",
    "                 base_log_level=1, file_log_level=None, console_log_level=None):\n",
    "        \n",
    "        self.logger = logging.getLogger(name)\n",
    "        \n",
    "        # Verifica livello BASE del Debug: standard = 1: passa tutto\n",
    "        try:\n",
    "            if not(0 <= base_log_level <= 50):\n",
    "                base_log_level = 1\n",
    "        except:\n",
    "            base_log_level = 1\n",
    "\n",
    "        # Verifica livello Debug per File: standard = 20: INFO\n",
    "        try:\n",
    "            if not(0 <= file_log_level <= 50):\n",
    "                file_log_level = 20\n",
    "        except:\n",
    "            file_log_level = 20\n",
    "        \n",
    "        # Verifica livello Log per Console: standard = 10: DEBUG\n",
    "        try:\n",
    "            if not(0 <= console_log_level <= 50):\n",
    "                console_log_level = 10\n",
    "        except:\n",
    "            console_log_level = 10\n",
    "\n",
    "        \n",
    "        # Imposto il livello alla base dei log che vengon passati agli Handler\n",
    "        self.logger.setLevel(base_log_level)\n",
    "\n",
    "        # imposto i 2 formatter per il File (DateTime) e per la Consolle (no DateTime)\n",
    "        file_formatter = logging.Formatter(\"%(asctime)s %(name)s > %(levelname)-9s%(message)s\", datefmt=\"%Y.%m.%d %H:%M:%S\")\n",
    "        cons_formatter = logging.Formatter(\"%(name)s > %(levelname)-9s%(message)s\")    \n",
    "\n",
    "        if log_file:\n",
    "            ''' se viene passato un log_file creo l'Handler altrimenti solo su console'''\n",
    "            file_handler = logging.FileHandler(log_file)\n",
    "            file_handler.setLevel(file_log_level)\n",
    "            file_handler.setFormatter(file_formatter)\n",
    "            self.logger.addHandler(file_handler)\n",
    "        \n",
    "        ''' sulla Console imposto sempre il Logging, poi valutiamo insieme'''\n",
    "        console_handler = logging.StreamHandler()\n",
    "        console_handler.setLevel(console_log_level)\n",
    "        console_handler.setFormatter(cons_formatter)\n",
    "        self.logger.addHandler(console_handler)\n",
    "    \n",
    "    # override dei messaggi di Output del Logging\n",
    "    def debug(self, message):\n",
    "        self.logger.debug(message)\n",
    "        \n",
    "    def info(self, message):\n",
    "        self.logger.info(message)\n",
    "        \n",
    "    def warning(self, message):\n",
    "        self.logger.warning(message)\n",
    "        \n",
    "    def error(self, message):\n",
    "        self.logger.error(message)\n",
    "        \n",
    "    def critical(self, message):\n",
    "        self.logger.critical(message)\n",
    "\n"
   ]
  },
  {
   "attachments": {},
   "cell_type": "markdown",
   "metadata": {},
   "source": [
    "## Import per il digger"
   ]
  },
  {
   "cell_type": "code",
   "execution_count": 19,
   "metadata": {},
   "outputs": [],
   "source": [
    "from dataclasses import dataclass as dc, field \n",
    "import os\n",
    "from hashlib import md5"
   ]
  },
  {
   "attachments": {},
   "cell_type": "markdown",
   "metadata": {},
   "source": [
    "## Data Class 'File'"
   ]
  },
  {
   "cell_type": "code",
   "execution_count": 38,
   "metadata": {},
   "outputs": [],
   "source": [
    "@dc \n",
    "class File:\n",
    "    name: str\n",
    "    path: os.PathLike\n",
    "    checksum: bytes = field(init=False)\n",
    "\n",
    "    def __post_init__(self):\n",
    "        with open(self.path, 'rb') as file:\n",
    "            read_file = file.read()\n",
    "            self.checksum = md5(read_file).digest()\n",
    "    \n",
    "            "
   ]
  },
  {
   "cell_type": "code",
   "execution_count": 40,
   "metadata": {},
   "outputs": [
    {
     "name": "stdout",
     "output_type": "stream",
     "text": [
      "File(name='test_file.txt', path='./data/source_folder/test_file.txt', checksum=b'\\xd4\\x1d\\x8c\\xd9\\x8f\\x00\\xb2\\x04\\xe9\\x80\\t\\x98\\xec\\xf8B~')\n",
      "b'\\xd4\\x1d\\x8c\\xd9\\x8f\\x00\\xb2\\x04\\xe9\\x80\\t\\x98\\xec\\xf8B~'\n"
     ]
    }
   ],
   "source": [
    "!touch data/source_folder/test_file.txt\n",
    "\n",
    "test01 = File('test_file.txt', './data/source_folder/test_file.txt')\n",
    "\n",
    "print(test01)\n",
    "\n",
    "print(test01.checksum)"
   ]
  },
  {
   "attachments": {},
   "cell_type": "markdown",
   "metadata": {},
   "source": [
    "## ***Digger***"
   ]
  },
  {
   "cell_type": "code",
   "execution_count": null,
   "metadata": {},
   "outputs": [],
   "source": [
    "class Digger: \n",
    "    pass"
   ]
  }
 ],
 "metadata": {
  "kernelspec": {
   "display_name": "DeskApp",
   "language": "python",
   "name": "python3"
  },
  "language_info": {
   "codemirror_mode": {
    "name": "ipython",
    "version": 3
   },
   "file_extension": ".py",
   "mimetype": "text/x-python",
   "name": "python",
   "nbconvert_exporter": "python",
   "pygments_lexer": "ipython3",
   "version": "3.10.9"
  },
  "orig_nbformat": 4
 },
 "nbformat": 4,
 "nbformat_minor": 2
}
